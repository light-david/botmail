import pandas as pd
import numpy as np
from sklearn.datasets import load_iris
iris_dataset = load_iris()

'''The iris object that is returned by load_iris is a Bunch object, which is very similar to a dictionary. It contains keys and values.'''
print("Keys of iris_dataset:\n", iris_dataset.keys())
#print(iris_dataset['DESCR'][:193] + "\n")
#print("Target names:", iris_dataset['target_names'])
#print("Features names:\n", iris_dataset['feature_names'])
#print("Type of data:", type(iris_dataset['data']))
#print("Shape of data:", iris_dataset['data'].shape)
#print("Type of target:", type(iris_dataset['target']))
#print("Shape of target:", iris_dataset['target'].shape)
print("First ten rows of data:\n", iris_dataset['data'][:10])
print("Target:\n", iris_dataset['target'])

from sklearn.model_selection import train_test_split
x_trian, x_test, y_train, y_test = train_test_split(iris_dataset['data'], iris_dataset['target'], random_state=0)

print("x_trian shape:", x_trian.shape)
print("y_train shape:", y_train.shape)

print("x_test shape:", x_test.shape)
print("y_test shape:", y_test.shape)

iris_dataframe = pd.DataFrame(x_train, columns=iris_dataset.feature_names)
#Create a scatter matrix from the dataframe, colour by y_train
pd.plotting.scatter_matrix(iris_dataframe, c=y_train, figsize=(15, 15), marker='o', hist_kwds={'bins': 20}, s=60, alpha=.8)

#Create the ML model classifier
from sklearn.neighbors import KNeighborsClassifier
knn = KNeighborsClassifier(n_neighbors=1)
knn.fit(x_train, y_train)

'''To make a prediction, we call the predict method of the knn object.'''
X_new = np.array([[5, 2.9, 1, 0.2]])
prediction = knn.predict(X_new)
print("Prediction:", prediction)
print("Predicted target name:", iris_dataset['target_names'][prediction])

y_pred = knn.predict(x_test)
print("Test set predictions:\n", y_pred)

print("\nTest set score: {:.2f}".format(np.mean(y_pred == y_test)))

print("\nTest set score: {:.2f}".format(knn.score(x_test, y_test)))
